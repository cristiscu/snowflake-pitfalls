{
 "cells": [
  {
   "cell_type": "markdown",
   "id": "f715acab-8dee-4a46-8555-9d7b95b13eb7",
   "metadata": {
    "collapsed": false,
    "name": "cell4"
   },
   "source": [
    "Open this file in a Snowflake Notebook. Add **faker**, **modin** and **pandas** to Packages. Set the **pandas** version to 2.2.1 (supported by modin).  "
   ]
  },
  {
   "cell_type": "code",
   "execution_count": null,
   "id": "ee866bbb-1cb8-4726-a6f2-f0ab1f1302b0",
   "metadata": {
    "language": "python",
    "name": "cell3"
   },
   "outputs": [],
   "source": [
    "# generate 100K fake rows in memory\n",
    "from faker import Faker\n",
    "\n",
    "f = Faker()\n",
    "output = [{\n",
    "    \"name\": f.name(),\n",
    "    \"address\": f.address(),\n",
    "    \"city\": f.city(),\n",
    "    \"state\": f.state(),\n",
    "    \"email\": f.email()\n",
    "} for _ in range(100000)]"
   ]
  },
  {
   "cell_type": "code",
   "execution_count": null,
   "id": "3775908f-ca36-4846-8f38-5adca39217f2",
   "metadata": {
    "collapsed": false,
    "language": "python",
    "name": "cell1"
   },
   "outputs": [],
   "source": [
    "# Drop N/A w/ pandas\n",
    "import pandas as pd\n",
    "\n",
    "df = pd.DataFrame(output)\n",
    "df.dropna(inplace=True)\n",
    "print(df)"
   ]
  },
  {
   "cell_type": "code",
   "execution_count": null,
   "id": "b6bce007-dfe6-45f2-992b-856ab2c6f672",
   "metadata": {
    "collapsed": false,
    "language": "python",
    "name": "cell2"
   },
   "outputs": [],
   "source": [
    "# Drop N/A w/ pandas on Snowflake\n",
    "import snowflake.snowpark.modin.plugin\n",
    "import modin.pandas as pd\n",
    "\n",
    "df = pd.DataFrame(output)\n",
    "df.dropna(inplace=True)\n",
    "print(df)"
   ]
  }
 ],
 "metadata": {
  "kernelspec": {
   "display_name": "Streamlit Notebook",
   "name": "streamlit"
  }
 },
 "nbformat": 4,
 "nbformat_minor": 5
}
